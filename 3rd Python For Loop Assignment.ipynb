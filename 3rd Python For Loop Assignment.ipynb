{
 "cells": [
  {
   "cell_type": "code",
   "execution_count": 1,
   "id": "c0a3343a-4ea1-4efc-9b1b-4055757102b7",
   "metadata": {},
   "outputs": [],
   "source": [
    "###Basic Level"
   ]
  },
  {
   "cell_type": "code",
   "execution_count": 2,
   "id": "9059784f-084b-46dc-866e-9f515d0b2631",
   "metadata": {},
   "outputs": [],
   "source": [
    "##1.Write a Python program to print the numbers from 1 to 10 using a `for` loop."
   ]
  },
  {
   "cell_type": "code",
   "execution_count": 1,
   "id": "1f329e19-bd7b-4493-b4a2-7c2428bd6994",
   "metadata": {},
   "outputs": [
    {
     "name": "stdout",
     "output_type": "stream",
     "text": [
      "1,2,3,4,5,6,7,8,9,10,"
     ]
    }
   ],
   "source": [
    "for i in range(1,11):\n",
    "    print(i,end=\",\")"
   ]
  },
  {
   "cell_type": "code",
   "execution_count": 6,
   "id": "174e9035-3b39-410e-b89f-f23becad0cdf",
   "metadata": {},
   "outputs": [],
   "source": [
    "##2.Create a program that calculates the sum of all numbers in a list using a `for` loop."
   ]
  },
  {
   "cell_type": "code",
   "execution_count": 2,
   "id": "8e82ea71-e1f3-4820-824f-e4a10a263a98",
   "metadata": {},
   "outputs": [
    {
     "name": "stdout",
     "output_type": "stream",
     "text": [
      "Sum of All Numbers in list :  210\n"
     ]
    }
   ],
   "source": [
    "lst=[10,20,30,40,50,60]\n",
    "sum=0\n",
    "for i in range(0,len(lst)):\n",
    "    sum=sum+lst[i]\n",
    "print(\"Sum of All Numbers in list : \",sum)\n",
    "    "
   ]
  },
  {
   "cell_type": "code",
   "execution_count": 12,
   "id": "09cd009d-af2d-4a59-8ad3-d3fc053882df",
   "metadata": {},
   "outputs": [],
   "source": [
    "##3.Write a program to print the characters of a string in reverse order using a `for` loop."
   ]
  },
  {
   "cell_type": "code",
   "execution_count": 3,
   "id": "fcffc788-3703-4b57-b595-1a1ef3c612ab",
   "metadata": {},
   "outputs": [
    {
     "name": "stdin",
     "output_type": "stream",
     "text": [
      "Enter the string :  shivank\n"
     ]
    },
    {
     "name": "stdout",
     "output_type": "stream",
     "text": [
      "Reversed String :  knavihs\n"
     ]
    }
   ],
   "source": [
    "str1=str(input(\"Enter the string : \"))\n",
    "str2=\"\"\n",
    "for i in str1:\n",
    "    str2=i+str2\n",
    "print(\"Reversed String : \",str2)"
   ]
  },
  {
   "cell_type": "code",
   "execution_count": 30,
   "id": "c8f14135-e988-4a90-8de6-dc07fc09256b",
   "metadata": {},
   "outputs": [],
   "source": [
    "##4.Develop a program that finds the factorial of a given number using a `for` loop."
   ]
  },
  {
   "cell_type": "code",
   "execution_count": 4,
   "id": "34f0f58e-d71c-496e-b030-ec03de56484f",
   "metadata": {},
   "outputs": [
    {
     "name": "stdin",
     "output_type": "stream",
     "text": [
      "Enter the Number :  5\n"
     ]
    },
    {
     "name": "stdout",
     "output_type": "stream",
     "text": [
      "Factorial of the number is :  120\n"
     ]
    }
   ],
   "source": [
    "number=int(input(\"Enter the Number : \"))\n",
    "factorial=1\n",
    "if number<0:\n",
    "           print(\"Number is Negative\")\n",
    "elif number==0:\n",
    "           print(\"Factorial of 0 is 1\")\n",
    "else:\n",
    "           for i in range(1,number+1):\n",
    "            factorial=factorial*i\n",
    "print(\"Factorial of the number is : \",factorial)"
   ]
  },
  {
   "cell_type": "code",
   "execution_count": 39,
   "id": "8ddaa825-ecd3-4fca-9674-3859bad43a56",
   "metadata": {},
   "outputs": [],
   "source": [
    "##5.Create a program to print the multiplication table of a given number using a `for` loop"
   ]
  },
  {
   "cell_type": "code",
   "execution_count": 5,
   "id": "94273efd-daf7-403b-8720-816ebecc7f15",
   "metadata": {},
   "outputs": [
    {
     "name": "stdin",
     "output_type": "stream",
     "text": [
      "Enter the Number :  17\n",
      "Enter the Table Limit :  10\n"
     ]
    },
    {
     "name": "stdout",
     "output_type": "stream",
     "text": [
      "17,34,51,68,85,102,119,136,153,170,"
     ]
    }
   ],
   "source": [
    "number=int(input(\"Enter the Number : \"))\n",
    "limit=int(input(\"Enter the Table Limit : \"))\n",
    "if number<0:\n",
    "           print(\"Number is Negative\")\n",
    "elif number==0:\n",
    "           print(\"Table of 0 is 0\")\n",
    "else:\n",
    "    for i in range(1,limit+1):\n",
    "        multi=i*number\n",
    "        print(multi,end=\",\")        "
   ]
  },
  {
   "cell_type": "code",
   "execution_count": 43,
   "id": "c2297d77-de21-41ba-be46-92ea3f2aec25",
   "metadata": {},
   "outputs": [],
   "source": [
    "##6.Write a program that counts the number of even and odd numbers in a list using a `for` loop"
   ]
  },
  {
   "cell_type": "code",
   "execution_count": 6,
   "id": "1b6a89f4-55c1-42af-98d3-7e44250313c7",
   "metadata": {},
   "outputs": [
    {
     "name": "stdout",
     "output_type": "stream",
     "text": [
      "Count of Even Numbers :  8\n",
      "Count of Odd Numbers :  9\n"
     ]
    }
   ],
   "source": [
    "lst1=[1,2,3,4,5,6,7,8,9,10,11,12,13,14,15,16,17]\n",
    "even=0\n",
    "odd=0\n",
    "for i in lst1:\n",
    "    if i%2==0:\n",
    "        even=even+1\n",
    "    if i%2!=0:\n",
    "        odd=odd+1\n",
    "print(\"Count of Even Numbers : \",even)\n",
    "print(\"Count of Odd Numbers : \",odd)"
   ]
  },
  {
   "cell_type": "code",
   "execution_count": 46,
   "id": "51adabff-46cf-4ed9-914a-6e35f41ebf3c",
   "metadata": {},
   "outputs": [],
   "source": [
    "###7.Develop a program that prints the squares of numbers from 1 to 5 using a `for` loop"
   ]
  },
  {
   "cell_type": "code",
   "execution_count": 7,
   "id": "6da04df5-e4ab-44f0-a1e4-2913ec76d6be",
   "metadata": {},
   "outputs": [
    {
     "name": "stdout",
     "output_type": "stream",
     "text": [
      "1,4,9,16,25,"
     ]
    }
   ],
   "source": [
    "for i in range(1,6):\n",
    "    print(i*i,end=\",\")"
   ]
  },
  {
   "cell_type": "code",
   "execution_count": 55,
   "id": "f85d122f-86ed-46d6-96a9-3c12050b69ce",
   "metadata": {},
   "outputs": [],
   "source": [
    "###8.Create a program to find the length of a string without using the `len()` function"
   ]
  },
  {
   "cell_type": "code",
   "execution_count": 8,
   "id": "3613ff8d-1f5d-4ef6-a3a6-d7c1fa35e89f",
   "metadata": {},
   "outputs": [
    {
     "name": "stdin",
     "output_type": "stream",
     "text": [
      "Enter the String :  shivank\n"
     ]
    },
    {
     "name": "stdout",
     "output_type": "stream",
     "text": [
      "Length of the String is  7\n"
     ]
    }
   ],
   "source": [
    "str1=str(input(\"Enter the String : \"))\n",
    "length=0\n",
    "for i in str1:\n",
    "    length=length+1\n",
    "print(\"Length of the String is \",length)"
   ]
  },
  {
   "cell_type": "code",
   "execution_count": 59,
   "id": "44e8bfce-03df-4906-8942-b82279930213",
   "metadata": {},
   "outputs": [],
   "source": [
    "###9.Write a program that calculates the average of a list of numbers using a `for` loop"
   ]
  },
  {
   "cell_type": "code",
   "execution_count": 9,
   "id": "13e655ca-3424-4181-87dc-4df99cfe2fd4",
   "metadata": {},
   "outputs": [
    {
     "name": "stdout",
     "output_type": "stream",
     "text": [
      "Average of the List is :  8.941176470588236\n"
     ]
    }
   ],
   "source": [
    "lst1=[1,2,3,4,5,6,7,8,9,10,11,12,13,14,15,16,17]\n",
    "length=len(lst1)\n",
    "sum=0\n",
    "for i in range(1,len(lst1)):\n",
    "    sum=sum+lst1[i]\n",
    "average=sum/length\n",
    "print(\"Average of the List is : \",average)"
   ]
  },
  {
   "cell_type": "code",
   "execution_count": 83,
   "id": "aad57826-0386-4646-93ac-f2abdd1112d8",
   "metadata": {},
   "outputs": [],
   "source": [
    "##10.Develop a program that prints the first `n` Fibonacci numbers using a `for` loop"
   ]
  },
  {
   "cell_type": "code",
   "execution_count": 10,
   "id": "8a5c498b-965a-449a-ad6f-de990140645f",
   "metadata": {},
   "outputs": [
    {
     "name": "stdin",
     "output_type": "stream",
     "text": [
      "Enter the number :  7\n"
     ]
    },
    {
     "name": "stdout",
     "output_type": "stream",
     "text": [
      "1,2,3,5,8,13,21,"
     ]
    }
   ],
   "source": [
    "number=int(input(\"Enter the number : \"))\n",
    "a,b,i=0,1,2\n",
    "for i in range(1,number+1):\n",
    "    fibonacci=a+b\n",
    "    a=b\n",
    "    b=fibonacci\n",
    "    i=i+1\n",
    "    print(fibonacci,end=\",\")"
   ]
  },
  {
   "cell_type": "code",
   "execution_count": null,
   "id": "bc6302e9-1e4c-4ff6-ad1c-58fcfbb6519b",
   "metadata": {},
   "outputs": [],
   "source": []
  },
  {
   "cell_type": "code",
   "execution_count": 95,
   "id": "1bec81ef-df0b-4861-9f52-fd4b82e4418a",
   "metadata": {},
   "outputs": [],
   "source": [
    "##Intermediate Level"
   ]
  },
  {
   "cell_type": "code",
   "execution_count": 96,
   "id": "565fe14f-011b-4aa8-8648-31aba1df75be",
   "metadata": {},
   "outputs": [],
   "source": [
    "##11.Write a program to check if a given list contains any duplicates using a `for` loop"
   ]
  },
  {
   "cell_type": "code",
   "execution_count": 11,
   "id": "7f655b2f-2921-411b-ac9d-b2e8bc55c6ff",
   "metadata": {},
   "outputs": [
    {
     "name": "stdout",
     "output_type": "stream",
     "text": [
      "List has no duplicate values\n"
     ]
    }
   ],
   "source": [
    "lst1=[1,2,3,4,7]\n",
    "lst2=[]\n",
    "for i in lst1:\n",
    "    if i not in lst2:\n",
    "        lst2.append(i)\n",
    "if len(lst1)>len(lst2):\n",
    "    print(\"List has duplicate values\")\n",
    "else:\n",
    "    print(\"List has no duplicate values\")"
   ]
  },
  {
   "cell_type": "code",
   "execution_count": 6,
   "id": "3fdd5641-ea1a-41b3-b503-0b4b07c03570",
   "metadata": {},
   "outputs": [],
   "source": [
    "##12.Create a program that prints the prime numbers in a given range using a `for` loop"
   ]
  },
  {
   "cell_type": "code",
   "execution_count": 18,
   "id": "5fc0559c-6b72-43e7-8422-da95a39aa637",
   "metadata": {},
   "outputs": [
    {
     "name": "stdin",
     "output_type": "stream",
     "text": [
      "Enter the Start Range 13\n",
      "Enter the End Range 17\n"
     ]
    },
    {
     "name": "stdout",
     "output_type": "stream",
     "text": [
      "13,17,"
     ]
    }
   ],
   "source": [
    "limit1=int(input(\"Enter the Start Range\"))\n",
    "limit2=int(input(\"Enter the End Range\"))\n",
    "for i in range(limit1,limit2+1):\n",
    "    if i>1:\n",
    "        for j in range(2,i):\n",
    "            if(i%j)==0:\n",
    "                break\n",
    "        else:\n",
    "            print(i,end=\",\")"
   ]
  },
  {
   "cell_type": "code",
   "execution_count": 3,
   "id": "97b39b73-91a7-473e-8a62-0586b88245f9",
   "metadata": {},
   "outputs": [],
   "source": [
    "##13.Develop a program that counts the number of vowels in a string using a `for` loop"
   ]
  },
  {
   "cell_type": "code",
   "execution_count": 19,
   "id": "23ab02f1-6add-456e-8f18-20323f7084ac",
   "metadata": {},
   "outputs": [
    {
     "name": "stdin",
     "output_type": "stream",
     "text": [
      "Enter the String shivank\n"
     ]
    },
    {
     "name": "stdout",
     "output_type": "stream",
     "text": [
      "Count of Vowels in String :  2\n"
     ]
    }
   ],
   "source": [
    "string=str(input(\"Enter the String\"))\n",
    "vowels=\"aeiouAEIOU\"\n",
    "count=0\n",
    "for i in string:\n",
    "    if i in vowels:\n",
    "        count=count+1\n",
    "print(\"Count of Vowels in String : \",count) "
   ]
  },
  {
   "cell_type": "code",
   "execution_count": null,
   "id": "1c7af758-075a-4d55-995f-be3ce537ebb7",
   "metadata": {},
   "outputs": [],
   "source": []
  },
  {
   "cell_type": "code",
   "execution_count": 13,
   "id": "f845fc7d-eb71-4817-86be-2c2c1c0756af",
   "metadata": {},
   "outputs": [],
   "source": [
    "##14.Write a program to find the maximum element in a 2D list using a nested `for` loop."
   ]
  },
  {
   "cell_type": "code",
   "execution_count": 20,
   "id": "897d029f-5a7e-4878-a1f7-22a435e0f602",
   "metadata": {},
   "outputs": [
    {
     "name": "stdout",
     "output_type": "stream",
     "text": [
      "Maximum Element in list :  76\n"
     ]
    }
   ],
   "source": [
    "list1=[[1,2,3,4,7,12,16],[76,12,43,71,43,65,9],[32,41,71,28,9,10]]\n",
    "maximum=0\n",
    "for i in list1:\n",
    "    for j in i:\n",
    "        if j>maximum:\n",
    "            maximum=j\n",
    "print(\"Maximum Element in list : \",maximum)"
   ]
  },
  {
   "cell_type": "code",
   "execution_count": null,
   "id": "7337e3ab-14cb-462d-a2fc-6fb3828c6d64",
   "metadata": {},
   "outputs": [],
   "source": []
  },
  {
   "cell_type": "code",
   "execution_count": 18,
   "id": "5968d319-f462-4789-ad3e-78c9ed518265",
   "metadata": {},
   "outputs": [],
   "source": [
    "##15.Create a program that removes all occurrences of a specific element from a list using a `for` loop"
   ]
  },
  {
   "cell_type": "code",
   "execution_count": 21,
   "id": "387a6bc8-74dc-4394-8f37-a8e7ba687ce8",
   "metadata": {},
   "outputs": [
    {
     "name": "stdin",
     "output_type": "stream",
     "text": [
      "Enter the Element to be removed :  7\n"
     ]
    },
    {
     "name": "stdout",
     "output_type": "stream",
     "text": [
      "List after element removal [1, 2, 3, 4, 12, 16, 76, 12, 43, 71, 43, 65, 9, 32, 41, 71, 28, 9, 10]\n"
     ]
    }
   ],
   "source": [
    "list1=[1,2,3,4,7,12,16,76,12,43,71,43,65,9,32,41,71,28,9,10]\n",
    "element=int(input(\"Enter the Element to be removed : \"))\n",
    "for i in list1:\n",
    "    if i==element:\n",
    "        list1.remove(i)\n",
    "print(\"List after element removal\",list1)"
   ]
  },
  {
   "cell_type": "code",
   "execution_count": null,
   "id": "cf2c8dc8-7c03-47bd-99dc-82c98d3e7ffb",
   "metadata": {},
   "outputs": [],
   "source": []
  },
  {
   "cell_type": "code",
   "execution_count": 26,
   "id": "3fe5fc68-c92e-4b2f-b4cb-374b5d0a84e7",
   "metadata": {},
   "outputs": [],
   "source": [
    "##16.Develop a program that generates a multiplication table for numbers from 1 to 5 using a nested `for` loop"
   ]
  },
  {
   "cell_type": "code",
   "execution_count": 22,
   "id": "02e8c9b8-dc16-45f7-94fe-eee82382f67b",
   "metadata": {},
   "outputs": [
    {
     "name": "stdout",
     "output_type": "stream",
     "text": [
      "1\t2\t3\t4\t5\t\n",
      "2\t4\t6\t8\t10\t\n",
      "3\t6\t9\t12\t15\t\n",
      "4\t8\t12\t16\t20\t\n",
      "5\t10\t15\t20\t25\t\n",
      "6\t12\t18\t24\t30\t\n",
      "7\t14\t21\t28\t35\t\n",
      "8\t16\t24\t32\t40\t\n",
      "9\t18\t27\t36\t45\t\n",
      "10\t20\t30\t40\t50\t\n"
     ]
    }
   ],
   "source": [
    "for x in range(1, 11):\n",
    "        for y in range(1, 6):\n",
    "            print(x*y, end=\"\\t\")\n",
    "        print()"
   ]
  },
  {
   "cell_type": "code",
   "execution_count": null,
   "id": "4c2d83f8-2afa-4efa-876f-2cb97c595d58",
   "metadata": {},
   "outputs": [],
   "source": []
  },
  {
   "cell_type": "code",
   "execution_count": 42,
   "id": "43637412-1c5f-4c54-934e-92148738ac18",
   "metadata": {},
   "outputs": [],
   "source": [
    "##17.Write a program that converts a list of Fahrenheit temperatures to Celsius using a `for` loop"
   ]
  },
  {
   "cell_type": "code",
   "execution_count": 23,
   "id": "ba0cbaa3-ec30-4f6a-9fdf-4b10422ab4bb",
   "metadata": {},
   "outputs": [
    {
     "name": "stdout",
     "output_type": "stream",
     "text": [
      "[50.55555555555556, 55.55555555555556, 43.888888888888886, 38.333333333333336, 36.666666666666664, 37.22222222222222, 38.888888888888886, 40.55555555555556]\n"
     ]
    }
   ],
   "source": [
    "faren_list=[123,132,111,101,98,99,102,105]\n",
    "cel_list=[]\n",
    "for i in faren_list:\n",
    "    c=((i-32)*5)/9\n",
    "    cel_list.append(c)\n",
    "print(cel_list)"
   ]
  },
  {
   "cell_type": "code",
   "execution_count": null,
   "id": "7ce862d9-4477-474b-88c5-1877155e3144",
   "metadata": {},
   "outputs": [],
   "source": []
  },
  {
   "cell_type": "code",
   "execution_count": 56,
   "id": "80b45dcc-822f-4a29-a4ef-0d95a5aca81d",
   "metadata": {},
   "outputs": [],
   "source": [
    "##18.Create a program to print the common elements from two lists using a `for` loop"
   ]
  },
  {
   "cell_type": "code",
   "execution_count": 24,
   "id": "7e50fffd-57ad-4a44-b6dd-5a6f519af38d",
   "metadata": {},
   "outputs": [
    {
     "name": "stdout",
     "output_type": "stream",
     "text": [
      "Common Elements in Both Lists :  [8, 9]\n"
     ]
    }
   ],
   "source": [
    "list1=[23,13,11,8,9,15]\n",
    "list2=[1,2,3,8,7,12,16,76,43,71,43,65,9,32,41,71,28,10]\n",
    "common_element=[]\n",
    "for i in list1:\n",
    "    for j in list2:\n",
    "        if i==j:\n",
    "            common_element.append(i)\n",
    "print(\"Common Elements in Both Lists : \",common_element)"
   ]
  },
  {
   "cell_type": "code",
   "execution_count": null,
   "id": "339445fc-6d48-41ae-aee3-09e870d24e89",
   "metadata": {},
   "outputs": [],
   "source": []
  },
  {
   "cell_type": "code",
   "execution_count": 70,
   "id": "bd0087f1-9ad3-476c-b08a-0102fdb22de7",
   "metadata": {},
   "outputs": [],
   "source": [
    "##19.Develop a program that prints the pattern of right-angled triangles using a `for` loop. Use ‘*’ to draw the pattern"
   ]
  },
  {
   "cell_type": "code",
   "execution_count": 25,
   "id": "689777ac-79a0-4573-9b51-79065a017181",
   "metadata": {},
   "outputs": [
    {
     "name": "stdout",
     "output_type": "stream",
     "text": [
      "* \n",
      "* * \n",
      "* * * \n",
      "* * * * \n",
      "* * * * * \n"
     ]
    }
   ],
   "source": [
    "rows = 5\n",
    "for i in range(rows):\n",
    "    for j in range(i + 1):\n",
    "        print(\"*\", end=' ')\n",
    "    print()"
   ]
  },
  {
   "cell_type": "code",
   "execution_count": null,
   "id": "3bf4967f-cc80-4fd2-b946-e5bb05886a93",
   "metadata": {},
   "outputs": [],
   "source": []
  },
  {
   "cell_type": "code",
   "execution_count": 2,
   "id": "a78ae722-3587-43e3-83ac-50bf45eef329",
   "metadata": {},
   "outputs": [],
   "source": [
    "###20.Write a program to find the greatest common divisor (GCD) of two numbers using a `for` loop"
   ]
  },
  {
   "cell_type": "code",
   "execution_count": 26,
   "id": "cbda0699-4304-4c6f-b528-8aea1a8241e6",
   "metadata": {},
   "outputs": [
    {
     "name": "stdin",
     "output_type": "stream",
     "text": [
      "Enter the First Number :  4\n",
      "Enter the Second Number :  9\n"
     ]
    },
    {
     "name": "stdout",
     "output_type": "stream",
     "text": [
      "GCD of Numbers is :  1\n"
     ]
    }
   ],
   "source": [
    "First=int(input(\"Enter the First Number : \"))\n",
    "Second=int(input(\"Enter the Second Number : \"))\n",
    "if First>Second:\n",
    "    Limit=Second\n",
    "else:\n",
    "    Limit=First\n",
    "for i in range(1,Limit+1):\n",
    "    if First%i==0 and Second%i==0:\n",
    "        GCD=i\n",
    "print(\"GCD of Numbers is : \",GCD)"
   ]
  },
  {
   "cell_type": "code",
   "execution_count": null,
   "id": "10fed003-6358-4764-9520-0d83a91d4bdd",
   "metadata": {},
   "outputs": [],
   "source": []
  },
  {
   "cell_type": "code",
   "execution_count": 16,
   "id": "3a4bc383-3818-4e61-8f80-27ebb390b921",
   "metadata": {},
   "outputs": [],
   "source": [
    "##21.Create a program that calculates the sum of the digits of numbers in a list using a list comprehension"
   ]
  },
  {
   "cell_type": "code",
   "execution_count": 55,
   "id": "9fe085b7-cf7e-4fa7-a6ef-1b1f62781717",
   "metadata": {},
   "outputs": [
    {
     "name": "stdout",
     "output_type": "stream",
     "text": [
      "Sum of the List is :  45\n"
     ]
    }
   ],
   "source": [
    "sum=0\n",
    "list1=[1,2,3,4,5,6,7,8,9]\n",
    "list_sum=[sum:=sum+i for i in list1]\n",
    "print(\"Sum of the List is : \",sum)"
   ]
  },
  {
   "cell_type": "code",
   "execution_count": null,
   "id": "464b6177-ffa1-4c23-94af-8fe7aaed46d7",
   "metadata": {},
   "outputs": [],
   "source": []
  },
  {
   "cell_type": "code",
   "execution_count": 3,
   "id": "adc3aaa4-b0de-4301-82af-cc18e2799742",
   "metadata": {},
   "outputs": [],
   "source": [
    "###22.Write a program to find the prime factors of a given number using a `for` loop and list comprehension"
   ]
  },
  {
   "cell_type": "code",
   "execution_count": 28,
   "id": "5e2382d1-f8ea-4fb2-a419-f77b45686661",
   "metadata": {},
   "outputs": [
    {
     "name": "stdin",
     "output_type": "stream",
     "text": [
      "Enter the Number 45\n"
     ]
    },
    {
     "name": "stdout",
     "output_type": "stream",
     "text": [
      "Prime Factors are :  3 5 3\n"
     ]
    }
   ],
   "source": [
    "prime_factors = lambda n: [i for i in range(2, n+1) if n%i == 0 and all(i % j != 0 for j in range(2, int(i**0.5)+1))]\n",
    "n = int(input(\"Enter the Number\"))\n",
    "factors = []\n",
    "while n > 1:\n",
    "    for factor in prime_factors(n):\n",
    "        factors.append(factor)\n",
    "        n //= factor\n",
    "print(\"Prime Factors are : \",*factors)"
   ]
  },
  {
   "cell_type": "code",
   "execution_count": null,
   "id": "11207a40-c1b2-4a92-8050-05debf44d15d",
   "metadata": {},
   "outputs": [],
   "source": []
  },
  {
   "cell_type": "code",
   "execution_count": 18,
   "id": "fe409402-130f-4902-8daa-30f574e8bcdb",
   "metadata": {},
   "outputs": [],
   "source": [
    "###23:Develop a program that extracts unique elements from a list and stores them in a new list using a list comprehension"
   ]
  },
  {
   "cell_type": "code",
   "execution_count": 29,
   "id": "1594e59e-789f-4225-b5a5-98702020fcfb",
   "metadata": {},
   "outputs": [
    {
     "name": "stdout",
     "output_type": "stream",
     "text": [
      "Unique Elements :  [1, 2, 3, 8, 7, 12, 6, 4, 5, 9, 32, 10]\n"
     ]
    }
   ],
   "source": [
    "list1=[1,2,3,8,7,12,6,7,3,7,4,5,9,32,4,7,8,10]\n",
    "unique_list=[]\n",
    "[unique_list.append(i)  for i in list1 if i not in unique_list]\n",
    "print(\"Unique Elements : \",unique_list)"
   ]
  },
  {
   "cell_type": "code",
   "execution_count": null,
   "id": "500b52a7-a5b8-40ad-986e-ef0b708d1fee",
   "metadata": {},
   "outputs": [],
   "source": []
  },
  {
   "cell_type": "code",
   "execution_count": 71,
   "id": "526ae136-78ec-4e3f-8318-42c1d5ce1034",
   "metadata": {},
   "outputs": [],
   "source": [
    "###24.Create a program that generates a list of all palindromic numbers up to a specified limit using a list comprehension"
   ]
  },
  {
   "cell_type": "code",
   "execution_count": 31,
   "id": "e485115c-92ad-4217-8ebc-2d80e6f82fb6",
   "metadata": {},
   "outputs": [
    {
     "name": "stdin",
     "output_type": "stream",
     "text": [
      "Enter the Limit 151\n"
     ]
    },
    {
     "name": "stdout",
     "output_type": "stream",
     "text": [
      "Palindromic Numbers in Limit :  [1, 2, 3, 4, 5, 6, 7, 8, 9, 11, 22, 33, 44, 55, 66, 77, 88, 99, 101, 111, 121, 131, 141, 151]\n"
     ]
    }
   ],
   "source": [
    "limit=int(input(\"Enter the Limit\"))\n",
    "palindromic=[i for i in range(1,limit+1) if str(i)==str(i)[::-1]]\n",
    "print(\"Palindromic Numbers in Limit : \",palindromic)"
   ]
  },
  {
   "cell_type": "code",
   "execution_count": null,
   "id": "5fd0e892-f129-4e31-888b-f9d3d44b610f",
   "metadata": {},
   "outputs": [],
   "source": []
  },
  {
   "cell_type": "code",
   "execution_count": 86,
   "id": "757a1d99-87fe-4295-a9b0-3daf8a1dec6c",
   "metadata": {},
   "outputs": [],
   "source": [
    "##25.Write a program to flatten a nested list using list comprehension"
   ]
  },
  {
   "cell_type": "code",
   "execution_count": 94,
   "id": "fd00a9c6-bb57-4894-8a68-02277f87b1f1",
   "metadata": {},
   "outputs": [
    {
     "name": "stdout",
     "output_type": "stream",
     "text": [
      "Flatten List :  [1, 2, 3, 4, 7, 12, 16, 76, 12, 43, 71, 43, 65, 9, 32, 41, 71, 28, 9, 10]\n"
     ]
    }
   ],
   "source": [
    "list1=[[1,2,3,4,7,12,16],[76,12,43,71,43,65,9],[32,41,71,28,9,10]]\n",
    "flat_list=[i for j in list1 for i in j]\n",
    "print(\"Flatten List : \",flat_list)"
   ]
  },
  {
   "cell_type": "code",
   "execution_count": null,
   "id": "9f5e1d5f-40e1-40ea-a445-e846cc932f76",
   "metadata": {},
   "outputs": [],
   "source": []
  },
  {
   "cell_type": "code",
   "execution_count": 95,
   "id": "1fa940a3-c2c5-449e-ada1-df6c5addafa4",
   "metadata": {},
   "outputs": [],
   "source": [
    "###26.Develop a program that computes the sum of even and odd numbers in a list separately using list comprehension"
   ]
  },
  {
   "cell_type": "code",
   "execution_count": 19,
   "id": "dc34cd40-257b-468e-89ee-fc3a237c4c5c",
   "metadata": {},
   "outputs": [
    {
     "name": "stdout",
     "output_type": "stream",
     "text": [
      "Sum of Even Numbers is :  192\n",
      "Sum of Odd Numbers is :  363\n"
     ]
    }
   ],
   "source": [
    "list1=[1, 2, 3, 4, 7, 12, 16, 76, 12, 43, 71, 43, 65, 9, 32, 41, 71, 28, 9, 10]\n",
    "sum_odd=0\n",
    "sum_even=0\n",
    "odd=[sum_odd:=sum_odd+i for i in list1 if i%2!=0]\n",
    "even=[sum_even:=sum_even+i for i in list1 if i%2==0]\n",
    "print(\"Sum of Even Numbers is : \",sum_even)\n",
    "print(\"Sum of Odd Numbers is : \",sum_odd)"
   ]
  },
  {
   "cell_type": "code",
   "execution_count": null,
   "id": "11264f65-c3c7-4d3d-a396-cc1216578f5c",
   "metadata": {},
   "outputs": [],
   "source": []
  },
  {
   "cell_type": "code",
   "execution_count": 20,
   "id": "73a5c28a-4560-4641-9399-9a05e221f9e3",
   "metadata": {},
   "outputs": [],
   "source": [
    "###27.Create a program that generates a list of squares of odd numbers between 1 and 10 using list comprehension"
   ]
  },
  {
   "cell_type": "code",
   "execution_count": 22,
   "id": "178c9d73-29f2-43ea-89ba-ff1ec517249a",
   "metadata": {},
   "outputs": [
    {
     "name": "stdout",
     "output_type": "stream",
     "text": [
      "List of Squares between 1 to 10 :  [1, 9, 25, 49, 81]\n"
     ]
    }
   ],
   "source": [
    "odd_square=[i**2 for i in range(1,11) if i%2!=0]\n",
    "print(\"List of Squares between 1 to 10 : \",odd_square)"
   ]
  },
  {
   "cell_type": "code",
   "execution_count": null,
   "id": "dbfdd899-8028-4505-8cec-ce3c8609b578",
   "metadata": {},
   "outputs": [],
   "source": []
  },
  {
   "cell_type": "code",
   "execution_count": 23,
   "id": "dd9c20a0-6612-4915-88ad-7d8e83322cfd",
   "metadata": {},
   "outputs": [],
   "source": [
    "###28.Write a program that combines two lists into a dictionary using list comprehension"
   ]
  },
  {
   "cell_type": "code",
   "execution_count": 27,
   "id": "1910491d-a925-4e8c-82d9-bc1d12386327",
   "metadata": {},
   "outputs": [
    {
     "name": "stdout",
     "output_type": "stream",
     "text": [
      "Dictionary :  {'Shivank': 9, 'John': 7, 'Akash': 5, 'Rohit': 8, 'Mohit': 7, 'Vaibhav': 9, 'Ojesh': 8}\n"
     ]
    }
   ],
   "source": [
    "Name=['Shivank','John','Akash','Rohit','Mohit','Vaibhav','Ojesh']\n",
    "Marks=[9,7,5,8,7,9,8]\n",
    "Dictionary={i:j for i, j in zip(Name,Marks)}\n",
    "print(\"Dictionary : \",Dictionary)"
   ]
  },
  {
   "cell_type": "code",
   "execution_count": null,
   "id": "3f46af61-fe5e-4157-9e96-e96e19000c19",
   "metadata": {},
   "outputs": [],
   "source": []
  },
  {
   "cell_type": "code",
   "execution_count": 28,
   "id": "c327fa07-f799-46e4-b6a4-a51a04f75fa5",
   "metadata": {},
   "outputs": [],
   "source": [
    "###29.Develop a program that extracts the vowels from a string and stores them in a list using list comprehension"
   ]
  },
  {
   "cell_type": "code",
   "execution_count": 1,
   "id": "8102ac29-281e-4ab9-b47a-b6f1ffa520dd",
   "metadata": {},
   "outputs": [
    {
     "name": "stdin",
     "output_type": "stream",
     "text": [
      "Enter the String shivank gupta\n"
     ]
    },
    {
     "name": "stdout",
     "output_type": "stream",
     "text": [
      "Extracted Vowels :  ['i', 'a', 'u', 'a']\n"
     ]
    }
   ],
   "source": [
    "String=str(input(\"Enter the String\"))\n",
    "vowels=[]\n",
    "vowel='aeiouAEIOU'\n",
    "[vowels.append(i)  for i in String if i in vowel]\n",
    "print(\"Extracted Vowels : \",vowels)"
   ]
  },
  {
   "cell_type": "code",
   "execution_count": null,
   "id": "2fadc7eb-e3a6-4fe5-b35a-e1f3221a4ddd",
   "metadata": {},
   "outputs": [],
   "source": []
  },
  {
   "cell_type": "code",
   "execution_count": 2,
   "id": "4a84fa42-3007-490b-8fca-bc553140bae0",
   "metadata": {},
   "outputs": [],
   "source": [
    "##30.Create a program that removes all non-numeric characters from a list of strings using list comprehension"
   ]
  },
  {
   "cell_type": "code",
   "execution_count": 4,
   "id": "fad925f4-fc61-4bff-8e2e-a210ce09daca",
   "metadata": {},
   "outputs": [
    {
     "name": "stdout",
     "output_type": "stream",
     "text": [
      "['abc', 'def', 'ghi', 'jklmno']\n"
     ]
    }
   ],
   "source": [
    "string_list = [\"abc123\", \"456def\", \"789ghi\", \"jklmno1234\"]\n",
    "numeric_list = [''.join(c for c in s if not c.isnumeric()) for s in string_list]\n",
    "print(numeric_list)"
   ]
  },
  {
   "cell_type": "code",
   "execution_count": null,
   "id": "a46deace-58f7-4127-8fd2-b6cc503d673a",
   "metadata": {},
   "outputs": [],
   "source": []
  },
  {
   "cell_type": "code",
   "execution_count": 15,
   "id": "50fb8b0f-10ad-45d9-a461-afe07eeb449c",
   "metadata": {},
   "outputs": [],
   "source": [
    "###Challenge Level:"
   ]
  },
  {
   "cell_type": "code",
   "execution_count": 16,
   "id": "38e7237c-3080-4c56-b8ae-da5e4bc58b85",
   "metadata": {},
   "outputs": [],
   "source": [
    "##31.Write a program to generate a list of prime numbers using the Sieve of Eratosthenes algorithm and list comprehension"
   ]
  },
  {
   "cell_type": "code",
   "execution_count": 43,
   "id": "c8957794-e6e3-4f71-a09a-5870beaa64b0",
   "metadata": {},
   "outputs": [
    {
     "name": "stdin",
     "output_type": "stream",
     "text": [
      "Enter lower range:  15\n",
      "Enter upper range:  21\n"
     ]
    },
    {
     "name": "stdout",
     "output_type": "stream",
     "text": [
      "Prime Numbers in this range :  [17, 19]\n"
     ]
    }
   ],
   "source": [
    "lower = int(input(\"Enter lower range: \"))\n",
    "upper = int(input(\"Enter upper range: \"))\n",
    "prime_list=[x for x in range(lower, upper+1) if x>1 if all(x % y != 0 for y in range(2, x))]\n",
    "print(\"Prime Numbers in this range : \",prime_list)"
   ]
  },
  {
   "cell_type": "code",
   "execution_count": 3,
   "id": "57c3860e-bd77-4188-849b-a8ca78630645",
   "metadata": {},
   "outputs": [],
   "source": [
    "##32.Create a program that generates a list of all Pythagorean triplets up to a specified limit using list comprehension."
   ]
  },
  {
   "cell_type": "code",
   "execution_count": 44,
   "id": "6d34c5db-26c9-45c5-90a9-7aea25d9655a",
   "metadata": {},
   "outputs": [
    {
     "name": "stdin",
     "output_type": "stream",
     "text": [
      "Enter the Limit 34\n"
     ]
    },
    {
     "name": "stdout",
     "output_type": "stream",
     "text": [
      "Pythagorean Triplet :  [(3, 4, 5), (5, 12, 13), (6, 8, 10), (7, 24, 25), (8, 15, 17), (9, 12, 15), (10, 24, 26), (12, 16, 20), (15, 20, 25), (16, 30, 34), (18, 24, 30), (20, 21, 29)]\n"
     ]
    }
   ],
   "source": [
    "n=int(input(\"Enter the Limit\"))\n",
    "list1=[(a, b, c) for a in range(1, n + 1) for b in range(a, n + 1)\n",
    "       for c in range(b, n + 1) if a**2 + b**2 == c**2]\n",
    "print(\"Pythagorean Triplet : \",list1)"
   ]
  },
  {
   "cell_type": "code",
   "execution_count": null,
   "id": "d7797c58-52d8-4957-86b0-8a9e514e4988",
   "metadata": {},
   "outputs": [],
   "source": []
  },
  {
   "cell_type": "code",
   "execution_count": 13,
   "id": "6b55a40e-b143-4d8b-be1e-c773591d7f62",
   "metadata": {},
   "outputs": [],
   "source": [
    "##33.Develop a program that generates a list of all possible combinations of two lists using list comprehension."
   ]
  },
  {
   "cell_type": "code",
   "execution_count": 45,
   "id": "c71d2c10-10cf-457e-83e8-3328ba853250",
   "metadata": {},
   "outputs": [
    {
     "name": "stdout",
     "output_type": "stream",
     "text": [
      "Combinations :  [(3, 's'), (3, 'f'), (3, 'g'), (4, 's'), (4, 'f'), (4, 'g'), (5, 's'), (5, 'f'), (5, 'g'), (12, 's'), (12, 'f'), (12, 'g'), (13, 's'), (13, 'f'), (13, 'g')]\n"
     ]
    }
   ],
   "source": [
    "list1=[3,4,5,12,13]\n",
    "list2=['s','f','g']\n",
    "combination=[]\n",
    "[combination.append((list1[i],list2[j])) for i in range(len(list1))  for j in range(len(list2))]\n",
    "print(\"Combinations : \",combination)"
   ]
  },
  {
   "cell_type": "code",
   "execution_count": null,
   "id": "d80e1fcd-1c14-44d4-8da6-247f1c3a47fe",
   "metadata": {},
   "outputs": [],
   "source": []
  },
  {
   "cell_type": "code",
   "execution_count": 6,
   "id": "76d6e860-5a9b-4b4e-807b-07ad83ed9a2e",
   "metadata": {},
   "outputs": [],
   "source": [
    "##34.Write a program that calculates the mean, median, and mode of a list of numbers using list comprehension."
   ]
  },
  {
   "cell_type": "code",
   "execution_count": 22,
   "id": "8c4c3614-5f9a-4d12-a219-91e1870a8ffd",
   "metadata": {},
   "outputs": [
    {
     "name": "stdout",
     "output_type": "stream",
     "text": [
      "Mean of the list is :  27.75\n",
      "Median of List :  14.0\n",
      "Mode of the List is :  9\n"
     ]
    }
   ],
   "source": [
    "list1=[1, 2, 3, 4, 7, 12, 16, 76, 12, 43, 71, 43, 65, 9, 32, 41, 71, 28, 9, 10]\n",
    "sum1=0\n",
    "len1=0\n",
    "sorted1=sorted(list1)\n",
    "[sum1:=sum1+i for i in list1]\n",
    "[len1:=len1+1 for j in list1]\n",
    "mean=sum1/len1\n",
    "index=len1//2\n",
    "print(\"Mean of the list is : \",mean)\n",
    "mid = len1 // 2\n",
    "if len1%2==0:\n",
    "    res = (sorted1[mid] + sorted1[~mid]) / 2\n",
    "else:\n",
    "    res=sorted1[mid]\n",
    "print(\"Median of List : \",res)\n",
    "mode=max(sorted1,key=sorted1.count)\n",
    "print(\"Mode of the List is : \",mode)"
   ]
  },
  {
   "cell_type": "code",
   "execution_count": 12,
   "id": "e58f696a-a905-4dcc-9140-bb2551bccacd",
   "metadata": {},
   "outputs": [
    {
     "data": {
      "text/plain": [
       "[1, 2, 3, 4, 7, 9, 9, 10, 12, 12, 16, 28, 32, 41, 43, 43, 65, 71, 71, 76]"
      ]
     },
     "execution_count": 12,
     "metadata": {},
     "output_type": "execute_result"
    }
   ],
   "source": [
    "sorted1"
   ]
  },
  {
   "cell_type": "code",
   "execution_count": 14,
   "id": "d43dc20b-a213-4b51-bb7a-58b5d12fa8cb",
   "metadata": {},
   "outputs": [],
   "source": [
    "##35.Create a program that generates Pascal's triangle up to a specified number of rows using list comprehension."
   ]
  },
  {
   "cell_type": "code",
   "execution_count": 32,
   "id": "14709ca4-b097-43e1-9cb6-8d4203de4b28",
   "metadata": {},
   "outputs": [
    {
     "name": "stdin",
     "output_type": "stream",
     "text": [
      "Enter the Number of rows 8\n"
     ]
    },
    {
     "name": "stdout",
     "output_type": "stream",
     "text": [
      "         1         \n",
      "        1 1        \n",
      "       1 2 1       \n",
      "      1 3 3 1      \n",
      "     1 4 6 4 1     \n",
      "   1 5 10 10 5 1   \n",
      "  1 6 15 20 15 6 1 \n",
      "1 7 21 35 35 21 7 1\n"
     ]
    }
   ],
   "source": [
    "def generate_pascals_triangle(num_rows):\n",
    "    if num_rows<=0:\n",
    "        return []\n",
    "    triangle=[[1]]\n",
    "    for i in range(1,num_rows):\n",
    "        prev_row=triangle[-1]\n",
    "        current_row=[1]+[prev_row[i] + prev_row[i+1] for i in range(len(prev_row)-1)]+[1]\n",
    "        triangle.append(current_row)\n",
    "    return triangle\n",
    "def display_pascals_triangle(triangle):\n",
    "    max_width=len(' '.join(map(str,triangle[-1])))\n",
    "    for j in triangle:\n",
    "        row_str=' '.join(map(str,j))\n",
    "        print(row_str.center(max_width))\n",
    "num_rows=int(input(\"Enter the Number of rows\"))\n",
    "triangle=generate_pascals_triangle(num_rows)\n",
    "display_pascals_triangle(triangle)\n",
    "                   \n"
   ]
  },
  {
   "cell_type": "code",
   "execution_count": null,
   "id": "8483d5bd-dadc-4865-88b5-2737b2572296",
   "metadata": {},
   "outputs": [],
   "source": []
  },
  {
   "cell_type": "code",
   "execution_count": 32,
   "id": "b4f86e2e-4fcb-4183-9a70-8489fd21daff",
   "metadata": {},
   "outputs": [],
   "source": [
    "###36.Develop a program that calculates the sum of the digits of a factorial of numbers from 1 to 5 using list comprehension"
   ]
  },
  {
   "cell_type": "code",
   "execution_count": 93,
   "id": "65d94163-293e-4df8-9e7f-da2ad64267f1",
   "metadata": {},
   "outputs": [
    {
     "name": "stdout",
     "output_type": "stream",
     "text": [
      "Factorial of Numbers :  [1, 2, 6, 24, 120]\n",
      "Sum of the Digits of the Factorial :  [1, 2, 6, 6, 3]\n"
     ]
    }
   ],
   "source": [
    "from math import factorial\n",
    "sum1=0\n",
    "fact=[factorial(i) for i in range(1,6)] \n",
    "def sumDigits(n):\n",
    "    return 0 if n == 0 else int(n % 10) + sumDigits(int(n / 10)) \n",
    "sum_digit=[sumDigits(i)  for i in fact]\n",
    "print(\"Factorial of Numbers : \",fact)\n",
    "print(\"Sum of the Digits of the Factorial : \",sum_digit)"
   ]
  },
  {
   "cell_type": "code",
   "execution_count": 33,
   "id": "9b1dd473-e213-4418-9d31-8f2079335f9b",
   "metadata": {},
   "outputs": [],
   "source": [
    "###37.Write a program that finds the longest word in a sentence using list comprehension"
   ]
  },
  {
   "cell_type": "code",
   "execution_count": 75,
   "id": "419a48d1-d2db-4af2-85e7-685dcc40a537",
   "metadata": {},
   "outputs": [
    {
     "name": "stdout",
     "output_type": "stream",
     "text": [
      "Longest Word in Sentence :  shivank\n"
     ]
    }
   ],
   "source": [
    "sentence=\"my name is shivank\"\n",
    "s=sentence.split()\n",
    "Split_List=[len(i) for i in s]\n",
    "Longest_index=Split_List.index(max(Split_List))\n",
    "Longest_String=s[Longest_index]\n",
    "print(\"Longest Word in Sentence : \",Longest_String)"
   ]
  },
  {
   "cell_type": "code",
   "execution_count": null,
   "id": "84634d4a-ae28-438d-9f98-8a2574a50644",
   "metadata": {},
   "outputs": [],
   "source": []
  },
  {
   "cell_type": "code",
   "execution_count": 78,
   "id": "7b2655a2-fc5e-4aad-ac93-20d8ed59abc5",
   "metadata": {},
   "outputs": [],
   "source": [
    "####38.Create a program that filters a list of strings to include only those with more than three vowels using list comprehension."
   ]
  },
  {
   "cell_type": "code",
   "execution_count": 78,
   "id": "9dbfec5c-41e9-4aff-8c1d-10abcae98c18",
   "metadata": {},
   "outputs": [
    {
     "name": "stdout",
     "output_type": "stream",
     "text": [
      "Name with more than three vowels :  ['abhinandan']\n"
     ]
    }
   ],
   "source": [
    "def vowels_check(word):\n",
    "    vowels = 'aeiouAEIOU'\n",
    "    count = 0\n",
    "    for i in vowels:\n",
    "        count += word.count(i)\n",
    "    if count > 3: return True\n",
    "    return False\n",
    "Name=['Shivank','John','Akash','Rohit','Mohini','abhinandan','Ojesh']\n",
    "Name_with_more_than_three_vowels = [j for j in Name if vowels_check(j)]\n",
    "print(\"Name with more than three vowels : \",Name_with_more_than_three_vowels)"
   ]
  },
  {
   "cell_type": "code",
   "execution_count": null,
   "id": "fc1e80a5-3d8d-4bbf-bf19-6d0abc1f43d4",
   "metadata": {},
   "outputs": [],
   "source": []
  },
  {
   "cell_type": "code",
   "execution_count": 94,
   "id": "7ea1e9bf-c6cd-403d-bea7-c281a06bd9f9",
   "metadata": {},
   "outputs": [],
   "source": [
    "###39.Develop a program that calculates the sum of the digits of numbers from 1 to 1000 using list comprehension"
   ]
  },
  {
   "cell_type": "code",
   "execution_count": 98,
   "id": "60b85518-b06e-4e92-80c6-7b5c0087776e",
   "metadata": {},
   "outputs": [
    {
     "name": "stdout",
     "output_type": "stream",
     "text": [
      "Numbers from 1 to 1000 :  [1, 2, 3, 4, 5, 6, 7, 8, 9, 10, 11, 12, 13, 14, 15, 16, 17, 18, 19, 20, 21, 22, 23, 24, 25, 26, 27, 28, 29, 30, 31, 32, 33, 34, 35, 36, 37, 38, 39, 40, 41, 42, 43, 44, 45, 46, 47, 48, 49, 50, 51, 52, 53, 54, 55, 56, 57, 58, 59, 60, 61, 62, 63, 64, 65, 66, 67, 68, 69, 70, 71, 72, 73, 74, 75, 76, 77, 78, 79, 80, 81, 82, 83, 84, 85, 86, 87, 88, 89, 90, 91, 92, 93, 94, 95, 96, 97, 98, 99, 100, 101, 102, 103, 104, 105, 106, 107, 108, 109, 110, 111, 112, 113, 114, 115, 116, 117, 118, 119, 120, 121, 122, 123, 124, 125, 126, 127, 128, 129, 130, 131, 132, 133, 134, 135, 136, 137, 138, 139, 140, 141, 142, 143, 144, 145, 146, 147, 148, 149, 150, 151, 152, 153, 154, 155, 156, 157, 158, 159, 160, 161, 162, 163, 164, 165, 166, 167, 168, 169, 170, 171, 172, 173, 174, 175, 176, 177, 178, 179, 180, 181, 182, 183, 184, 185, 186, 187, 188, 189, 190, 191, 192, 193, 194, 195, 196, 197, 198, 199, 200, 201, 202, 203, 204, 205, 206, 207, 208, 209, 210, 211, 212, 213, 214, 215, 216, 217, 218, 219, 220, 221, 222, 223, 224, 225, 226, 227, 228, 229, 230, 231, 232, 233, 234, 235, 236, 237, 238, 239, 240, 241, 242, 243, 244, 245, 246, 247, 248, 249, 250, 251, 252, 253, 254, 255, 256, 257, 258, 259, 260, 261, 262, 263, 264, 265, 266, 267, 268, 269, 270, 271, 272, 273, 274, 275, 276, 277, 278, 279, 280, 281, 282, 283, 284, 285, 286, 287, 288, 289, 290, 291, 292, 293, 294, 295, 296, 297, 298, 299, 300, 301, 302, 303, 304, 305, 306, 307, 308, 309, 310, 311, 312, 313, 314, 315, 316, 317, 318, 319, 320, 321, 322, 323, 324, 325, 326, 327, 328, 329, 330, 331, 332, 333, 334, 335, 336, 337, 338, 339, 340, 341, 342, 343, 344, 345, 346, 347, 348, 349, 350, 351, 352, 353, 354, 355, 356, 357, 358, 359, 360, 361, 362, 363, 364, 365, 366, 367, 368, 369, 370, 371, 372, 373, 374, 375, 376, 377, 378, 379, 380, 381, 382, 383, 384, 385, 386, 387, 388, 389, 390, 391, 392, 393, 394, 395, 396, 397, 398, 399, 400, 401, 402, 403, 404, 405, 406, 407, 408, 409, 410, 411, 412, 413, 414, 415, 416, 417, 418, 419, 420, 421, 422, 423, 424, 425, 426, 427, 428, 429, 430, 431, 432, 433, 434, 435, 436, 437, 438, 439, 440, 441, 442, 443, 444, 445, 446, 447, 448, 449, 450, 451, 452, 453, 454, 455, 456, 457, 458, 459, 460, 461, 462, 463, 464, 465, 466, 467, 468, 469, 470, 471, 472, 473, 474, 475, 476, 477, 478, 479, 480, 481, 482, 483, 484, 485, 486, 487, 488, 489, 490, 491, 492, 493, 494, 495, 496, 497, 498, 499, 500, 501, 502, 503, 504, 505, 506, 507, 508, 509, 510, 511, 512, 513, 514, 515, 516, 517, 518, 519, 520, 521, 522, 523, 524, 525, 526, 527, 528, 529, 530, 531, 532, 533, 534, 535, 536, 537, 538, 539, 540, 541, 542, 543, 544, 545, 546, 547, 548, 549, 550, 551, 552, 553, 554, 555, 556, 557, 558, 559, 560, 561, 562, 563, 564, 565, 566, 567, 568, 569, 570, 571, 572, 573, 574, 575, 576, 577, 578, 579, 580, 581, 582, 583, 584, 585, 586, 587, 588, 589, 590, 591, 592, 593, 594, 595, 596, 597, 598, 599, 600, 601, 602, 603, 604, 605, 606, 607, 608, 609, 610, 611, 612, 613, 614, 615, 616, 617, 618, 619, 620, 621, 622, 623, 624, 625, 626, 627, 628, 629, 630, 631, 632, 633, 634, 635, 636, 637, 638, 639, 640, 641, 642, 643, 644, 645, 646, 647, 648, 649, 650, 651, 652, 653, 654, 655, 656, 657, 658, 659, 660, 661, 662, 663, 664, 665, 666, 667, 668, 669, 670, 671, 672, 673, 674, 675, 676, 677, 678, 679, 680, 681, 682, 683, 684, 685, 686, 687, 688, 689, 690, 691, 692, 693, 694, 695, 696, 697, 698, 699, 700, 701, 702, 703, 704, 705, 706, 707, 708, 709, 710, 711, 712, 713, 714, 715, 716, 717, 718, 719, 720, 721, 722, 723, 724, 725, 726, 727, 728, 729, 730, 731, 732, 733, 734, 735, 736, 737, 738, 739, 740, 741, 742, 743, 744, 745, 746, 747, 748, 749, 750, 751, 752, 753, 754, 755, 756, 757, 758, 759, 760, 761, 762, 763, 764, 765, 766, 767, 768, 769, 770, 771, 772, 773, 774, 775, 776, 777, 778, 779, 780, 781, 782, 783, 784, 785, 786, 787, 788, 789, 790, 791, 792, 793, 794, 795, 796, 797, 798, 799, 800, 801, 802, 803, 804, 805, 806, 807, 808, 809, 810, 811, 812, 813, 814, 815, 816, 817, 818, 819, 820, 821, 822, 823, 824, 825, 826, 827, 828, 829, 830, 831, 832, 833, 834, 835, 836, 837, 838, 839, 840, 841, 842, 843, 844, 845, 846, 847, 848, 849, 850, 851, 852, 853, 854, 855, 856, 857, 858, 859, 860, 861, 862, 863, 864, 865, 866, 867, 868, 869, 870, 871, 872, 873, 874, 875, 876, 877, 878, 879, 880, 881, 882, 883, 884, 885, 886, 887, 888, 889, 890, 891, 892, 893, 894, 895, 896, 897, 898, 899, 900, 901, 902, 903, 904, 905, 906, 907, 908, 909, 910, 911, 912, 913, 914, 915, 916, 917, 918, 919, 920, 921, 922, 923, 924, 925, 926, 927, 928, 929, 930, 931, 932, 933, 934, 935, 936, 937, 938, 939, 940, 941, 942, 943, 944, 945, 946, 947, 948, 949, 950, 951, 952, 953, 954, 955, 956, 957, 958, 959, 960, 961, 962, 963, 964, 965, 966, 967, 968, 969, 970, 971, 972, 973, 974, 975, 976, 977, 978, 979, 980, 981, 982, 983, 984, 985, 986, 987, 988, 989, 990, 991, 992, 993, 994, 995, 996, 997, 998, 999, 1000]\n",
      "Sum of the Digits of Numbers from 1 to 1000 :  [1, 2, 3, 4, 5, 6, 7, 8, 9, 1, 2, 3, 4, 5, 6, 7, 8, 9, 10, 2, 3, 4, 5, 6, 7, 8, 9, 10, 11, 3, 4, 5, 6, 7, 8, 9, 10, 11, 12, 4, 5, 6, 7, 8, 9, 10, 11, 12, 13, 5, 6, 7, 8, 9, 10, 11, 12, 13, 14, 6, 7, 8, 9, 10, 11, 12, 13, 14, 15, 7, 8, 9, 10, 11, 12, 13, 14, 15, 16, 8, 9, 10, 11, 12, 13, 14, 15, 16, 17, 9, 10, 11, 12, 13, 14, 15, 16, 17, 18, 1, 2, 3, 4, 5, 6, 7, 8, 9, 10, 2, 3, 4, 5, 6, 7, 8, 9, 10, 11, 3, 4, 5, 6, 7, 8, 9, 10, 11, 12, 4, 5, 6, 7, 8, 9, 10, 11, 12, 13, 5, 6, 7, 8, 9, 10, 11, 12, 13, 14, 6, 7, 8, 9, 10, 11, 12, 13, 14, 15, 7, 8, 9, 10, 11, 12, 13, 14, 15, 16, 8, 9, 10, 11, 12, 13, 14, 15, 16, 17, 9, 10, 11, 12, 13, 14, 15, 16, 17, 18, 10, 11, 12, 13, 14, 15, 16, 17, 18, 19, 2, 3, 4, 5, 6, 7, 8, 9, 10, 11, 3, 4, 5, 6, 7, 8, 9, 10, 11, 12, 4, 5, 6, 7, 8, 9, 10, 11, 12, 13, 5, 6, 7, 8, 9, 10, 11, 12, 13, 14, 6, 7, 8, 9, 10, 11, 12, 13, 14, 15, 7, 8, 9, 10, 11, 12, 13, 14, 15, 16, 8, 9, 10, 11, 12, 13, 14, 15, 16, 17, 9, 10, 11, 12, 13, 14, 15, 16, 17, 18, 10, 11, 12, 13, 14, 15, 16, 17, 18, 19, 11, 12, 13, 14, 15, 16, 17, 18, 19, 20, 3, 4, 5, 6, 7, 8, 9, 10, 11, 12, 4, 5, 6, 7, 8, 9, 10, 11, 12, 13, 5, 6, 7, 8, 9, 10, 11, 12, 13, 14, 6, 7, 8, 9, 10, 11, 12, 13, 14, 15, 7, 8, 9, 10, 11, 12, 13, 14, 15, 16, 8, 9, 10, 11, 12, 13, 14, 15, 16, 17, 9, 10, 11, 12, 13, 14, 15, 16, 17, 18, 10, 11, 12, 13, 14, 15, 16, 17, 18, 19, 11, 12, 13, 14, 15, 16, 17, 18, 19, 20, 12, 13, 14, 15, 16, 17, 18, 19, 20, 21, 4, 5, 6, 7, 8, 9, 10, 11, 12, 13, 5, 6, 7, 8, 9, 10, 11, 12, 13, 14, 6, 7, 8, 9, 10, 11, 12, 13, 14, 15, 7, 8, 9, 10, 11, 12, 13, 14, 15, 16, 8, 9, 10, 11, 12, 13, 14, 15, 16, 17, 9, 10, 11, 12, 13, 14, 15, 16, 17, 18, 10, 11, 12, 13, 14, 15, 16, 17, 18, 19, 11, 12, 13, 14, 15, 16, 17, 18, 19, 20, 12, 13, 14, 15, 16, 17, 18, 19, 20, 21, 13, 14, 15, 16, 17, 18, 19, 20, 21, 22, 5, 6, 7, 8, 9, 10, 11, 12, 13, 14, 6, 7, 8, 9, 10, 11, 12, 13, 14, 15, 7, 8, 9, 10, 11, 12, 13, 14, 15, 16, 8, 9, 10, 11, 12, 13, 14, 15, 16, 17, 9, 10, 11, 12, 13, 14, 15, 16, 17, 18, 10, 11, 12, 13, 14, 15, 16, 17, 18, 19, 11, 12, 13, 14, 15, 16, 17, 18, 19, 20, 12, 13, 14, 15, 16, 17, 18, 19, 20, 21, 13, 14, 15, 16, 17, 18, 19, 20, 21, 22, 14, 15, 16, 17, 18, 19, 20, 21, 22, 23, 6, 7, 8, 9, 10, 11, 12, 13, 14, 15, 7, 8, 9, 10, 11, 12, 13, 14, 15, 16, 8, 9, 10, 11, 12, 13, 14, 15, 16, 17, 9, 10, 11, 12, 13, 14, 15, 16, 17, 18, 10, 11, 12, 13, 14, 15, 16, 17, 18, 19, 11, 12, 13, 14, 15, 16, 17, 18, 19, 20, 12, 13, 14, 15, 16, 17, 18, 19, 20, 21, 13, 14, 15, 16, 17, 18, 19, 20, 21, 22, 14, 15, 16, 17, 18, 19, 20, 21, 22, 23, 15, 16, 17, 18, 19, 20, 21, 22, 23, 24, 7, 8, 9, 10, 11, 12, 13, 14, 15, 16, 8, 9, 10, 11, 12, 13, 14, 15, 16, 17, 9, 10, 11, 12, 13, 14, 15, 16, 17, 18, 10, 11, 12, 13, 14, 15, 16, 17, 18, 19, 11, 12, 13, 14, 15, 16, 17, 18, 19, 20, 12, 13, 14, 15, 16, 17, 18, 19, 20, 21, 13, 14, 15, 16, 17, 18, 19, 20, 21, 22, 14, 15, 16, 17, 18, 19, 20, 21, 22, 23, 15, 16, 17, 18, 19, 20, 21, 22, 23, 24, 16, 17, 18, 19, 20, 21, 22, 23, 24, 25, 8, 9, 10, 11, 12, 13, 14, 15, 16, 17, 9, 10, 11, 12, 13, 14, 15, 16, 17, 18, 10, 11, 12, 13, 14, 15, 16, 17, 18, 19, 11, 12, 13, 14, 15, 16, 17, 18, 19, 20, 12, 13, 14, 15, 16, 17, 18, 19, 20, 21, 13, 14, 15, 16, 17, 18, 19, 20, 21, 22, 14, 15, 16, 17, 18, 19, 20, 21, 22, 23, 15, 16, 17, 18, 19, 20, 21, 22, 23, 24, 16, 17, 18, 19, 20, 21, 22, 23, 24, 25, 17, 18, 19, 20, 21, 22, 23, 24, 25, 26, 9, 10, 11, 12, 13, 14, 15, 16, 17, 18, 10, 11, 12, 13, 14, 15, 16, 17, 18, 19, 11, 12, 13, 14, 15, 16, 17, 18, 19, 20, 12, 13, 14, 15, 16, 17, 18, 19, 20, 21, 13, 14, 15, 16, 17, 18, 19, 20, 21, 22, 14, 15, 16, 17, 18, 19, 20, 21, 22, 23, 15, 16, 17, 18, 19, 20, 21, 22, 23, 24, 16, 17, 18, 19, 20, 21, 22, 23, 24, 25, 17, 18, 19, 20, 21, 22, 23, 24, 25, 26, 18, 19, 20, 21, 22, 23, 24, 25, 26, 27, 1]\n"
     ]
    }
   ],
   "source": [
    "Numbers=[i for i in range (1,1001)]\n",
    "def sumDigits(n):\n",
    "    return 0 if n == 0 else int(n % 10) + sumDigits(int(n / 10)) \n",
    "sum_digit=[sumDigits(i)  for i in range(1,1001)]\n",
    "print(\"Numbers from 1 to 1000 : \",Numbers)\n",
    "print(\"Sum of the Digits of Numbers from 1 to 1000 : \",sum_digit)"
   ]
  },
  {
   "cell_type": "code",
   "execution_count": null,
   "id": "3dbb1b65-42f2-4d76-b95a-1babf3d4dcac",
   "metadata": {},
   "outputs": [],
   "source": []
  },
  {
   "cell_type": "code",
   "execution_count": 99,
   "id": "ce1cf899-a37c-40c2-bc84-0b7f2203297a",
   "metadata": {},
   "outputs": [],
   "source": [
    "###40.Write a program that generates a list of prime palindromic numbers using list comprehension."
   ]
  },
  {
   "cell_type": "code",
   "execution_count": 105,
   "id": "026bc40a-1b9e-413a-adcf-362ec5bb5836",
   "metadata": {},
   "outputs": [
    {
     "name": "stdin",
     "output_type": "stream",
     "text": [
      "Enter the Limit 1000\n"
     ]
    },
    {
     "name": "stdout",
     "output_type": "stream",
     "text": [
      "Prime Palindromic Numbers in this range :  [2, 3, 5, 7, 11, 101, 131, 151, 181, 191, 313, 353, 373, 383, 727, 757, 787, 797, 919, 929]\n"
     ]
    }
   ],
   "source": [
    "limit=int(input(\"Enter the Limit\"))\n",
    "palindromic=[i for i in range(1,limit+1) if str(i)==str(i)[::-1]]\n",
    "prime_panlindromic_list=[x for x in palindromic if x>1 if all(x % y != 0 for y in range(2, x))]\n",
    "print(\"Prime Palindromic Numbers in this range : \",prime_panlindromic_list)"
   ]
  },
  {
   "cell_type": "code",
   "execution_count": null,
   "id": "044395aa-8a6b-419c-ac83-0d91dd67e64c",
   "metadata": {},
   "outputs": [],
   "source": []
  }
 ],
 "metadata": {
  "kernelspec": {
   "display_name": "Python 3 (ipykernel)",
   "language": "python",
   "name": "python3"
  },
  "language_info": {
   "codemirror_mode": {
    "name": "ipython",
    "version": 3
   },
   "file_extension": ".py",
   "mimetype": "text/x-python",
   "name": "python",
   "nbconvert_exporter": "python",
   "pygments_lexer": "ipython3",
   "version": "3.10.8"
  }
 },
 "nbformat": 4,
 "nbformat_minor": 5
}
