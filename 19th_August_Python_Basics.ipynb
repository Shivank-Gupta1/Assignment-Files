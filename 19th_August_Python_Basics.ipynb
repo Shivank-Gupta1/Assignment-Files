{
 "cells": [
  {
   "cell_type": "markdown",
   "id": "2260fcf0-4a78-4e51-82b4-8e5c2ca30969",
   "metadata": {},
   "source": [
    "Assignment 1\n",
    "\n",
    "TOPIC : Python Basics Variable"
   ]
  },
  {
   "cell_type": "code",
   "execution_count": 1,
   "id": "de1f4efa-9c8b-4432-ae5e-f5812f9665bd",
   "metadata": {},
   "outputs": [],
   "source": [
    "###Question 1"
   ]
  },
  {
   "cell_type": "code",
   "execution_count": 51,
   "id": "78c90c63-a82d-499a-a8a4-91fec6efea6e",
   "metadata": {},
   "outputs": [],
   "source": [
    "x=10\n",
    "y=20"
   ]
  },
  {
   "cell_type": "code",
   "execution_count": 52,
   "id": "421d7b25-356e-44a5-8804-9ec1b782d0f8",
   "metadata": {},
   "outputs": [],
   "source": [
    "x=x+y\n",
    "y=x-y\n",
    "x=x-y"
   ]
  },
  {
   "cell_type": "code",
   "execution_count": 53,
   "id": "fc414260-cbe8-4d27-8230-ffbcebc85fc0",
   "metadata": {},
   "outputs": [
    {
     "name": "stdout",
     "output_type": "stream",
     "text": [
      "20 10\n"
     ]
    }
   ],
   "source": [
    "print(x,y)"
   ]
  },
  {
   "cell_type": "code",
   "execution_count": 7,
   "id": "f4614095-b453-46ae-a3ed-20ceae366370",
   "metadata": {},
   "outputs": [],
   "source": [
    "### Question 2"
   ]
  },
  {
   "cell_type": "code",
   "execution_count": 59,
   "id": "4b2d79cd-2d94-4dd9-ab2b-39b49eebade9",
   "metadata": {},
   "outputs": [
    {
     "name": "stdin",
     "output_type": "stream",
     "text": [
      "Enter the length : 10\n",
      "Enter the width : 5\n"
     ]
    },
    {
     "name": "stdout",
     "output_type": "stream",
     "text": [
      "Area of rectangle is 50.0\n"
     ]
    }
   ],
   "source": [
    "length=float(input(\"Enter the length :\"))\n",
    "width=float(input(\"Enter the width :\"))\n",
    "area=length*width\n",
    "print(\"Area of rectangle is\",str(area))"
   ]
  },
  {
   "cell_type": "code",
   "execution_count": 37,
   "id": "7aa3bfdb-9d04-4596-aeac-1715588ba0fa",
   "metadata": {},
   "outputs": [],
   "source": [
    "### Question 3"
   ]
  },
  {
   "cell_type": "code",
   "execution_count": 60,
   "id": "253b98ce-b1f1-4318-82a3-96391d2db6ab",
   "metadata": {},
   "outputs": [
    {
     "name": "stdin",
     "output_type": "stream",
     "text": [
      "Enter the Temparature in Celcius 300\n"
     ]
    },
    {
     "name": "stdout",
     "output_type": "stream",
     "text": [
      "Temparature in Fahrenheit is 572.0\n"
     ]
    }
   ],
   "source": [
    "C=float(input(\"Enter the Temparature in Celcius\"))\n",
    "F=(C*9/5)+32\n",
    "print(\"Temparature in Fahrenheit is\", str(F))"
   ]
  },
  {
   "cell_type": "code",
   "execution_count": null,
   "id": "7c3e8e88-b22b-4a44-ae4c-4ccff0b2ebc2",
   "metadata": {},
   "outputs": [],
   "source": []
  },
  {
   "cell_type": "markdown",
   "id": "440499c4-f536-4cd4-9f18-bc7afa30f055",
   "metadata": {},
   "source": [
    "TOPIC : String Based Questions"
   ]
  },
  {
   "cell_type": "code",
   "execution_count": 44,
   "id": "bbe25577-ce54-4baa-b7ef-b2c87658c9d0",
   "metadata": {},
   "outputs": [],
   "source": [
    "### Question 1"
   ]
  },
  {
   "cell_type": "code",
   "execution_count": 61,
   "id": "aa449d17-6e3b-43bf-8e70-0cfe49d0f7db",
   "metadata": {},
   "outputs": [
    {
     "name": "stdin",
     "output_type": "stream",
     "text": [
      "Enter the String Python Language\n"
     ]
    },
    {
     "name": "stdout",
     "output_type": "stream",
     "text": [
      "Length of the string is  15\n"
     ]
    }
   ],
   "source": [
    "String=str(input(\"Enter the String\"))\n",
    "Length=len(String)\n",
    "print(\"Length of the string is \",str(Length))"
   ]
  },
  {
   "cell_type": "code",
   "execution_count": 10,
   "id": "f16e555d-9d36-4e0c-b3bd-8584a17bdf29",
   "metadata": {},
   "outputs": [],
   "source": [
    "### Question 2"
   ]
  },
  {
   "cell_type": "code",
   "execution_count": 64,
   "id": "b0b317ce-5e82-48cf-83fd-d153274856ad",
   "metadata": {},
   "outputs": [
    {
     "name": "stdin",
     "output_type": "stream",
     "text": [
      "Enter the sentence Python Language\n"
     ]
    },
    {
     "name": "stdout",
     "output_type": "stream",
     "text": [
      "The count of vowels are : \n",
      "5\n"
     ]
    }
   ],
   "source": [
    "Sentence=str(input(\"Enter the sentence\"))\n",
    "vowel=0\n",
    "for i in Sentence:\n",
    "    if(i=='a' or i=='e' or i=='i' or i=='o' or i=='u' or i=='A' or i=='E' or i=='I' or i=='O' or i=='U'):\n",
    "        vowel=vowel+1\n",
    "print(\"The count of vowels are : \")\n",
    "print(vowel)"
   ]
  },
  {
   "cell_type": "code",
   "execution_count": 16,
   "id": "cf2dc893-e27a-4a09-a7b2-2da94743aa4b",
   "metadata": {},
   "outputs": [],
   "source": [
    "### Question 3"
   ]
  },
  {
   "cell_type": "code",
   "execution_count": 17,
   "id": "50cd932d-9ece-4c85-af16-4750a9d92cba",
   "metadata": {},
   "outputs": [],
   "source": [
    "String1=\"Currently Working as a Systems Engineer\""
   ]
  },
  {
   "cell_type": "code",
   "execution_count": 63,
   "id": "ea090125-a6f2-4950-b98b-80c796bab516",
   "metadata": {},
   "outputs": [
    {
     "name": "stdout",
     "output_type": "stream",
     "text": [
      "reenignE smetsyS a sa gnikroW yltnerruC\n"
     ]
    }
   ],
   "source": [
    "Reversed_String=String1[::-1]\n",
    "print(Reversed_String)"
   ]
  },
  {
   "cell_type": "code",
   "execution_count": 19,
   "id": "e1e23077-0538-4e72-bdc8-4fd44eb2e4fc",
   "metadata": {},
   "outputs": [],
   "source": [
    "### Question 4"
   ]
  },
  {
   "cell_type": "code",
   "execution_count": 42,
   "id": "b0684568-9c7f-4284-8711-3dff1b5666ec",
   "metadata": {},
   "outputs": [
    {
     "name": "stdin",
     "output_type": "stream",
     "text": [
      " peep\n"
     ]
    },
    {
     "name": "stdout",
     "output_type": "stream",
     "text": [
      "String is Palindrome\n"
     ]
    }
   ],
   "source": [
    "String2=str(input())\n",
    "Reversed_String2=String2[::-1]\n",
    "if Reversed_String2==String2:\n",
    "    print(\"String is Palindrome\")\n",
    "else :\n",
    "    print(\"String is not Palindrome\")"
   ]
  },
  {
   "cell_type": "code",
   "execution_count": 43,
   "id": "391a72ea-231d-496a-9a11-ae1fcf2558c1",
   "metadata": {},
   "outputs": [],
   "source": [
    "### Question 5"
   ]
  },
  {
   "cell_type": "code",
   "execution_count": 49,
   "id": "68229137-042c-4de9-a6c5-f415754a825b",
   "metadata": {},
   "outputs": [
    {
     "name": "stdin",
     "output_type": "stream",
     "text": [
      " python is a programming language\n"
     ]
    },
    {
     "name": "stdout",
     "output_type": "stream",
     "text": [
      "pythonisaprogramminglanguage\n"
     ]
    }
   ],
   "source": [
    "String5=str(input())\n",
    "without_space=str(String5.replace(\" \", \"\"))\n",
    "print(without_space)"
   ]
  },
  {
   "cell_type": "code",
   "execution_count": null,
   "id": "100fdc2a-bbfe-4e5a-80da-8180330d931e",
   "metadata": {},
   "outputs": [],
   "source": []
  }
 ],
 "metadata": {
  "kernelspec": {
   "display_name": "Python 3 (ipykernel)",
   "language": "python",
   "name": "python3"
  },
  "language_info": {
   "codemirror_mode": {
    "name": "ipython",
    "version": 3
   },
   "file_extension": ".py",
   "mimetype": "text/x-python",
   "name": "python",
   "nbconvert_exporter": "python",
   "pygments_lexer": "ipython3",
   "version": "3.10.8"
  }
 },
 "nbformat": 4,
 "nbformat_minor": 5
}
